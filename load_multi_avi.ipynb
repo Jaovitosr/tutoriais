{
 "cells": [
  {
   "cell_type": "markdown",
   "metadata": {},
   "source": [
    "### AVI SSVEP\n",
    "\n",
    "#### Carregamento da base de dados\n",
    "\n",
    "Classificação por isolamento de frequência.\n",
    "\n",
    "Objetivos:\n",
    "\n",
    "- Padronizar os dados - multi-target - dos participantes.\n",
    "\n",
    "Nesse arquivo estaremos realizando o carregamento das informações das bases de dados do AVI que estão distribuídos em diversos arquivos, e realizaremos uma pequena formatação para facilitar o preprocessamento dos dados na fase seguinte."
   ]
  },
  {
   "cell_type": "code",
   "execution_count": 1,
   "metadata": {},
   "outputs": [],
   "source": [
    "from scipy.io import loadmat\n",
    "import numpy as np"
   ]
  },
  {
   "cell_type": "code",
   "execution_count": 2,
   "metadata": {},
   "outputs": [
    {
     "data": {
      "text/plain": [
       "(10,)"
      ]
     },
     "execution_count": 2,
     "metadata": {},
     "output_type": "execute_result"
    }
   ],
   "source": [
    "avi_data = list()\n",
    "for i in range(1,6):\n",
    "    for j in range(1,3):\n",
    "        avi_data.append(loadmat(f\"../datasets/avi/multi/Sub{i}_{j}_multitarget.mat\"))\n",
    "\n",
    "np.array(avi_data).shape\n"
   ]
  },
  {
   "cell_type": "markdown",
   "metadata": {},
   "source": [
    "#### Carregamento dos dados\n",
    "\n",
    "Para realizar o carregamento dos dados obtidos a partir da base de dados, precisaremos separar as informações em 'dados'(data) e 'labels' para relacionar as informações com as frequencias utilizadas.\n",
    "\n",
    "as informações dos dados estçao dentro do índice `['Data'][0][0][7]` do nosso array avi_data.\n",
    "ja as informações dos dados das labels (frequencias) estão no índice `['Data'][0][0][8][0]`"
   ]
  },
  {
   "cell_type": "code",
   "execution_count": 3,
   "metadata": {},
   "outputs": [
    {
     "name": "stdout",
     "output_type": "stream",
     "text": [
      "(10, 8192, 10)\n",
      "Divisão dos dados:\n",
      "(8192, 10)\n",
      "(8192, 10)\n",
      "(8192, 10)\n",
      "(8192, 10)\n",
      "(8192, 10)\n",
      "(8192, 10)\n",
      "(8192, 10)\n",
      "(8192, 10)\n",
      "(8192, 10)\n",
      "(8192, 10)\n",
      "\n",
      "Divisão dos rótulos (sequências):\n",
      "[7.5 8.2 7.  8.2 6.  7.5 6.  6.  8.2 8.2]\n",
      "[9.3 6.  6.  8.2 6.  6.5 7.5 7.  6.  6. ]\n",
      "[7.5 8.2 7.  8.2 6.  7.5 6.  6.  8.2 8.2]\n",
      "[9.3 6.  6.  8.2 6.  6.5 7.5 7.  6.  6. ]\n",
      "[7.5 8.2 7.  8.2 6.  7.5 6.  6.  8.2 8.2]\n",
      "[9.3 6.  6.  8.2 6.  6.5 7.5 7.  6.  6. ]\n",
      "[7.5 8.2 7.  8.2 6.  7.5 6.  6.  8.2 8.2]\n",
      "[9.3 6.  6.  8.2 6.  6.5 7.5 7.  6.  6. ]\n",
      "[7.5 8.2 7.  8.2 6.  7.5 6.  6.  8.2 8.2]\n",
      "[9.3 6.  6.  8.2 6.  6.5 7.5 7.  6.  6. ]\n"
     ]
    }
   ],
   "source": [
    "X = [d['Data'][0][0][7] for d in avi_data]\n",
    "y = [d['Data'][0][0][8][0] for d in avi_data]\n",
    "\n",
    "print(np.array(X).shape)\n",
    "\n",
    "print(\"Divisão dos dados:\")\n",
    "for data in X:\n",
    "    print(data.shape)\n",
    "\n",
    "print(\"\\nDivisão dos rótulos (sequências):\")\n",
    "for data in y:\n",
    "    print(data)"
   ]
  },
  {
   "cell_type": "markdown",
   "metadata": {},
   "source": [
    "#### Formatação dos dados\n",
    "\n",
    "O padrão original dos dados vem no formato `(10, 8192, 10)`, que representam 10 registros de voluntários, com 8192 dados (instantes que os receptores captam as informações do cérebro quando as frequencias piscam), de 10 frequencias diferentes.\n",
    "\n",
    "Como existe uma relação clara entre as o voluntário com as frequencias que foram testadas em cada um deles, podemos unir essas colunas sem perder informações relevantes."
   ]
  },
  {
   "cell_type": "code",
   "execution_count": 4,
   "metadata": {},
   "outputs": [
    {
     "name": "stdout",
     "output_type": "stream",
     "text": [
      "(10, 8192, 10)\n",
      "(10, 10, 8192)\n"
     ]
    },
    {
     "data": {
      "text/plain": [
       "(100, 8192)"
      ]
     },
     "execution_count": 4,
     "metadata": {},
     "output_type": "execute_result"
    }
   ],
   "source": [
    "X = np.array(X)\n",
    "print(X.shape)\n",
    "X = X.swapaxes(1,2)\n",
    "print(X.shape)\n",
    "X = X.reshape(X.shape[0] * X.shape[1], X.shape[2])\n",
    "X.shape\n"
   ]
  },
  {
   "cell_type": "code",
   "execution_count": 6,
   "metadata": {},
   "outputs": [],
   "source": [
    "# salva os dados numpy\n",
    "\n",
    "np.save(\"../datasets/avi/multi/data.npy\", X)\n",
    "np.save(\"../datasets/avi/multi/labels.npy\", y)"
   ]
  },
  {
   "cell_type": "code",
   "execution_count": null,
   "metadata": {},
   "outputs": [],
   "source": []
  }
 ],
 "metadata": {
  "kernelspec": {
   "display_name": "venv",
   "language": "python",
   "name": "python3"
  },
  "language_info": {
   "codemirror_mode": {
    "name": "ipython",
    "version": 3
   },
   "file_extension": ".py",
   "mimetype": "text/x-python",
   "name": "python",
   "nbconvert_exporter": "python",
   "pygments_lexer": "ipython3",
   "version": "3.10.12"
  },
  "orig_nbformat": 4
 },
 "nbformat": 4,
 "nbformat_minor": 2
}
