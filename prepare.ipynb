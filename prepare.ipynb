{
 "cells": [
  {
   "cell_type": "markdown",
   "metadata": {},
   "source": [
    "# **Preparação**"
   ]
  },
  {
   "cell_type": "markdown",
   "metadata": {},
   "source": [
    "#### Carregando dataset"
   ]
  },
  {
   "cell_type": "code",
   "execution_count": 3044,
   "metadata": {},
   "outputs": [
    {
     "data": {
      "text/plain": [
       "((28, 1000, 4), (28, 1000, 4))"
      ]
     },
     "execution_count": 3044,
     "metadata": {},
     "output_type": "execute_result"
    }
   ],
   "source": [
    "import numpy as np\n",
    "\n",
    "data1  = np.load  (\"dataset/Gabi.npy\")\n",
    "data2  = np.load  (\"dataset/Jesse.npy\")\n",
    "\n",
    "data1.shape, data2.shape\n",
    "\n",
    "# 28 movimentos (4 classes, cada uma aparece 7 vezes)\n",
    "# 1000 pontos observados\n",
    "# 2 participantes, por isso são 2 tuplas"
   ]
  },
  {
   "cell_type": "markdown",
   "metadata": {},
   "source": [
    "#### Correção do numero de eletrodos e unificação"
   ]
  },
  {
   "cell_type": "code",
   "execution_count": 3045,
   "metadata": {},
   "outputs": [
    {
     "data": {
      "text/plain": [
       "(2, 28, 2, 1000)"
      ]
     },
     "execution_count": 3045,
     "metadata": {},
     "output_type": "execute_result"
    }
   ],
   "source": [
    "#os dois primeiros eletrodos são os únicos funcionais\n",
    "data1 =  data1[:, :, :2]\n",
    "data2 = data2[:, :, :2]\n",
    "\n",
    "data1.shape, data2.shape\n",
    "\n",
    "\n",
    "#Juntando as duas bases de dados\n",
    "data = np.array([data1, data2])\n",
    "\n",
    "#colocando os dados na dimensão final\n",
    "data = data.transpose(0, 1, 3, 2)\n",
    "data.shape\n"
   ]
  },
  {
   "cell_type": "markdown",
   "metadata": {},
   "source": [
    "#### Juntando as duas bases de dados"
   ]
  },
  {
   "cell_type": "code",
   "execution_count": 3046,
   "metadata": {},
   "outputs": [
    {
     "data": {
      "text/plain": [
       "(2, 28, 2, 1000)"
      ]
     },
     "execution_count": 3046,
     "metadata": {},
     "output_type": "execute_result"
    }
   ],
   "source": [
    "data = np.array([data1, data2])\n",
    "\n",
    "\n",
    "#colocando os dados na dimensão final\n",
    "data = data.transpose(0, 1, 3, 2)\n",
    "data.shape"
   ]
  },
  {
   "cell_type": "markdown",
   "metadata": {},
   "source": [
    "#### Aplicando fitros temporais"
   ]
  },
  {
   "cell_type": "code",
   "execution_count": 3047,
   "metadata": {},
   "outputs": [],
   "source": [
    "from scipy import signal\n",
    "\n",
    "# definições de filtros\n",
    "\n",
    "def butter_bandpass(data, lowcut, highcut, fs=512, order=4):\n",
    "    nyq = fs * 0.5\n",
    "    low = lowcut / nyq\n",
    "    high = highcut / nyq\n",
    "    b, a = signal.butter(order, [low, high], btype='bandpass')\n",
    "    return signal.filtfilt(b, a, data)\n",
    "\n",
    "def butter_notch(data, cutoff, var=1, fs=512, order=4):\n",
    "    nyq = fs * 0.5\n",
    "    low = (cutoff - var) / nyq\n",
    "    high = (cutoff + var) / nyq\n",
    "    b, a = signal.iirfilter(order, [low, high], btype='bandstop', ftype=\"butter\")\n",
    "    return signal.filtfilt(b, a, data)"
   ]
  },
  {
   "cell_type": "markdown",
   "metadata": {},
   "source": [
    "#### *Tarefa 1*: realizar a apicação dos filtros para toda a base de dados \n",
    "- Para filtros temporais: 5-50 Hz \n",
    "- Plotar gráficos antes e depois da aplicação dos filtros"
   ]
  },
  {
   "cell_type": "code",
   "execution_count": 3048,
   "metadata": {},
   "outputs": [
    {
     "data": {
      "text/plain": [
       "(2, 28, 2, 1000)"
      ]
     },
     "execution_count": 3048,
     "metadata": {},
     "output_type": "execute_result"
    }
   ],
   "source": [
    "\n",
    "filtered_data = butter_notch(data, 60)\n",
    "filtered_data = butter_bandpass(filtered_data, 5, 50)\n",
    "filtered_data.shape"
   ]
  },
  {
   "cell_type": "markdown",
   "metadata": {},
   "source": [
    "Picotar os dados para obter mehor acurácia na classificação\n",
    "\n",
    "[2, 28, 2, 1000]\n",
    "\n",
    "[:, :, :, :900]"
   ]
  },
  {
   "cell_type": "code",
   "execution_count": 3049,
   "metadata": {},
   "outputs": [
    {
     "data": {
      "text/plain": [
       "(2, 28, 2, 400)"
      ]
     },
     "execution_count": 3049,
     "metadata": {},
     "output_type": "execute_result"
    }
   ],
   "source": [
    "data = data [:, :, :, 300:700]\n",
    "data.shape"
   ]
  },
  {
   "cell_type": "code",
   "execution_count": 3050,
   "metadata": {},
   "outputs": [],
   "source": [
    "data_cut = data"
   ]
  },
  {
   "cell_type": "markdown",
   "metadata": {},
   "source": [
    "#### Realizando Segmentação (tempo/frequência)"
   ]
  },
  {
   "cell_type": "markdown",
   "metadata": {},
   "source": [
    "As características normalmente são extraídas sobre pequenos segmentos de tamanho fixo dos dados, não no dado como um todo. Estes pequenos segmentos são chamados de janelas. A técnica de separar os dados em janelas, recebe o nome de janela deslizante (sliding window) e é uma forma de segmentação de dados. Uma boa prática, é definir um passo para essa janela de forma que haja uma sopreposição de dados, para que informações da lacuna de uma janela e outra não sejam perdidas. Na imagem a seguir podemos observar um sinal EOG.\n",
    "\n",
    "Algumas características de EMG trabalham com o dado no domínio da frequência. Quando tais características são aplicadas, é necessário tranformar o dado para o domínio da frequência, utilizando o método de transformação de domínio STFT, do inglês Short-time Fourier transform (Transformada de Fourier de curto termo).\n",
    "\n",
    "Os trechos de código a seguir dividem o dadom em segmentos, tanto no domínio do tempo quanto no domínio da frequência."
   ]
  },
  {
   "cell_type": "code",
   "execution_count": 3051,
   "metadata": {},
   "outputs": [
    {
     "name": "stdout",
     "output_type": "stream",
     "text": [
      "Shape inicial (56, 2, 400)\n",
      "Formato (shape) dos dados depois da divisão de janelas\n",
      "Dominio do tempo: (56, 2, 14, 64) - (classes+ensaios, canais, janelas, linhas)\n",
      "Dominio da frequência:  (56, 2, 14, 33) - (classes+ensaios, canais, janelas, linhas)\n"
     ]
    }
   ],
   "source": [
    "from scipy.signal import stft\n",
    "\n",
    "data = data_cut.reshape(data.shape[0] * data.shape[1], data.shape[2],  data.shape[3])\n",
    "\n",
    "step = 25\n",
    "segment = 64\n",
    "print('Shape inicial', data.shape)\n",
    "\n",
    "n_win = int((data.shape[-1] - segment) / step) + 1\n",
    "ids = np.arange(n_win) * step\n",
    "\n",
    "# Janelas do dado no dominio do tempo\n",
    "chunks_time = np.array([data[:,:,k:(k + segment)] for k in ids]).transpose(1,2,0,3)\n",
    "\n",
    "# Janelas do dado no domínio da frequência\n",
    "_, _, chunks_freq = stft(data, fs=200, nperseg=64, noverlap=32)\n",
    "chunks_freq = np.swapaxes(chunks_freq, 2, 3)\n",
    "\n",
    "print('Formato (shape) dos dados depois da divisão de janelas')\n",
    "print(f'Dominio do tempo: {chunks_time.shape} - (classes+ensaios, canais, janelas, linhas)')\n",
    "print(f'Dominio da frequência:  {chunks_freq.shape} - (classes+ensaios, canais, janelas, linhas)')"
   ]
  },
  {
   "cell_type": "code",
   "execution_count": 3052,
   "metadata": {},
   "outputs": [],
   "source": [
    "np.save(\"dataset/segmented_data_t.npy\", chunks_time)\n",
    "np.save(\"dataset/segmented_data_f.npy\", chunks_freq)"
   ]
  },
  {
   "cell_type": "markdown",
   "metadata": {},
   "source": [
    "# **Validação**"
   ]
  },
  {
   "cell_type": "markdown",
   "metadata": {},
   "source": [
    "#### **Validação dos dados**\n",
    "\n",
    "Incluem: aplicação e seleção de características e classificação dos dados"
   ]
  },
  {
   "cell_type": "markdown",
   "metadata": {},
   "source": [
    "#### Criando vetores de características: VAR, RMS, ... (tempo) e FMD, FMN, ... (frequência)"
   ]
  },
  {
   "attachments": {
    "image.png": {
     "image/png": "[encoded data removed]"
    }
   },
   "cell_type": "markdown",
   "metadata": {},
   "source": [
    "#### *Tarefa 2*: Implemente todas as características apresentadas neste tutorial em formato de funções. Sinta-se livre também para buscar e implementar características além das apresentadas, citando as fontes de tais características.\n",
    "\n",
    "![image.png](attachment:image.png)"
   ]
  },
  {
   "cell_type": "code",
   "execution_count": 3053,
   "metadata": {},
   "outputs": [],
   "source": [
    "from math import prod\n",
    "import numpy as np\n",
    "\n",
    "# funções auxiliares\n",
    "\n",
    "def PSD(w):\n",
    "    ''' definição da função PSD para o sinal no domínio da frequência '''\n",
    "    return np.abs(w) ** 2\n",
    "\n",
    "def f_j(w):\n",
    "    return (np.arange(1, w.shape[-1]+1) * 200)/ (2 * w.shape[-1])\n",
    "\n",
    "## Dominio do tempo\n",
    "\n",
    "def wamp(x, threshold):\n",
    "    f_x = np.diff(x)\n",
    "    return np.sum(np.abs(f_x) > threshold, axis=-1)\n",
    "\n",
    "def var(x):\n",
    "    return np.sum(x ** 2, axis=-1) / (np.prod(x.shape) - 1)\n",
    "\n",
    "def rms(x):\n",
    "    return np.sqrt(np.sum(np.abs(x) ** 2, axis=-1) / (np.prod(x.shape) - 1))\n",
    "\n",
    "def wl(x):\n",
    "    return np.abs(np.diff(x, axis=-1)).sum(axis=-1)\n",
    "\n",
    "def zc(x):\n",
    "    sgn = np.sign(x)\n",
    "    return np.sum(np.diff(sgn, axis=-1) != 0, axis=-1)\n",
    "\n",
    "## Dominio da Frequencia\n",
    "\n",
    "def fmd(w):\n",
    "    return np.sum(PSD(w), axis=-1) / 2\n",
    "\n",
    "def fmn(w):\n",
    "    return np.sum(f_j(w) * PSD(w)) / fmd(w)*2\n",
    "\n",
    "def mmdf(w):\n",
    "    return np.sum(np.abs(w), axis=-1) / 2\n",
    "\n",
    "def mmnf(w):\n",
    "    return np.sum(f_j(w) * np.abs(w), axis=-1) / mmdf(w)*2"
   ]
  },
  {
   "cell_type": "markdown",
   "metadata": {},
   "source": [
    "##### Implementação do vetor\n"
   ]
  },
  {
   "cell_type": "code",
   "execution_count": 3054,
   "metadata": {},
   "outputs": [
    {
     "name": "stdout",
     "output_type": "stream",
     "text": [
      "Shape dos vetores originais: (56, 2, 14, 64) (56, 2, 14, 33)\n"
     ]
    }
   ],
   "source": [
    "\n",
    "x = np.load(\"dataset/segmented_data_t.npy\")\n",
    "w = np.load(\"dataset/segmented_data_f.npy\")\n",
    "\n",
    "print(\"Shape dos vetores originais:\", x.shape, w.shape)"
   ]
  },
  {
   "cell_type": "markdown",
   "metadata": {},
   "source": [
    "##### Aplicando características"
   ]
  },
  {
   "cell_type": "code",
   "execution_count": 3055,
   "metadata": {},
   "outputs": [
    {
     "data": {
      "text/plain": [
       "((56, 2, 14), (56, 2, 14), (56, 2, 14), (56, 2, 14))"
      ]
     },
     "execution_count": 3055,
     "metadata": {},
     "output_type": "execute_result"
    }
   ],
   "source": [
    "data_var = var(x)\n",
    "data_rms = rms(w)\n",
    "\n",
    "data_fmd = fmd(w)\n",
    "data_mmdf = mmdf(w)\n",
    "\n",
    "data_var.shape, data_rms.shape, data_fmd.shape, data_mmdf.shape\n",
    "\n",
    "# 2 -> eletrodos"
   ]
  },
  {
   "cell_type": "markdown",
   "metadata": {},
   "source": [
    "##### União do vetor de características inicial"
   ]
  },
  {
   "cell_type": "code",
   "execution_count": 3056,
   "metadata": {},
   "outputs": [
    {
     "data": {
      "text/plain": [
       "(784, 8)"
      ]
     },
     "execution_count": 3056,
     "metadata": {},
     "output_type": "execute_result"
    }
   ],
   "source": [
    "features = np.array([data_var , data_rms , data_fmd , data_mmdf])\n",
    "\n",
    "#Organização das dimensões (vetor de características deve possuir duas dimensões)\n",
    "features = features.transpose(1, 3, 0, 2)\n",
    "\n",
    "#criar vetor de características definitivo\n",
    "features = features.reshape(features.shape[0] * features.shape[1],\n",
    "                            features.shape[2] * features.shape[3])\n",
    "\n",
    "features.shape"
   ]
  },
  {
   "cell_type": "markdown",
   "metadata": {},
   "source": [
    "#### *Tarefa 3* : Realização da normalização dos dados utilizando ferramentas já conhecidas (standardScaler)"
   ]
  },
  {
   "cell_type": "code",
   "execution_count": 3057,
   "metadata": {},
   "outputs": [
    {
     "data": {
      "text/plain": [
       "(784, 8)"
      ]
     },
     "execution_count": 3057,
     "metadata": {},
     "output_type": "execute_result"
    }
   ],
   "source": [
    "from sklearn.preprocessing import StandardScaler\n",
    "\n",
    "ss = StandardScaler()\n",
    "normalized_feat = ss.fit_transform(features)\n",
    "\n",
    "normalized_feat.shape"
   ]
  },
  {
   "cell_type": "markdown",
   "metadata": {},
   "source": [
    "##### Criação do vetor de *labels* "
   ]
  },
  {
   "cell_type": "code",
   "execution_count": 3058,
   "metadata": {},
   "outputs": [
    {
     "name": "stdout",
     "output_type": "stream",
     "text": [
      "[0, 1, 2, 3, 2, 3, 3, 1, 0, 3, 0, 0, 1, 2, 3, 2, 1, 0, 2, 1, 3, 1, 0, 1, 2, 0, 2, 3]\n",
      "784\n"
     ]
    }
   ],
   "source": [
    "from sklearn.preprocessing import OneHotEncoder\n",
    "\n",
    "labels_str = ['dir', 'esq', 'cima', 'baixo', 'cima', 'baixo',\n",
    "'baixo', 'esq', 'dir', 'baixo', 'dir', 'dir', 'esq', 'cima',\n",
    "'baixo', 'cima', 'esq', 'dir', 'cima', 'esq', 'baixo', 'esq',\n",
    "'dir', 'esq', 'cima', 'dir', 'cima', 'baixo']\n",
    "\n",
    "# transformando para numérico\n",
    "lab_dict = {'dir': 0, 'esq': 1, 'cima': 2, 'baixo': 3}\n",
    "labels_num = [lab_dict[item] for item in labels_str]\n",
    "\n",
    "print(labels_num)\n",
    "\n",
    "# criação do vetor de labels final\n",
    "y = np.repeat(labels_num, int(features.shape[0] / len(labels_num)))\n",
    "print(len(y))"
   ]
  },
  {
   "cell_type": "markdown",
   "metadata": {},
   "source": [
    "#### *Tarefa 4* : Realização da seleção de características, utilizando ferramentas já conhecidas"
   ]
  },
  {
   "cell_type": "markdown",
   "metadata": {},
   "source": [
    "#### **Aplicando método de seleção de característica (por exemplo, Select Kbest)**"
   ]
  },
  {
   "cell_type": "code",
   "execution_count": 3059,
   "metadata": {},
   "outputs": [
    {
     "name": "stdout",
     "output_type": "stream",
     "text": [
      "(784, 8)\n"
     ]
    }
   ],
   "source": [
    "from sklearn.feature_selection import SelectKBest, f_classif\n",
    "\n",
    "selector = SelectKBest(score_func=f_classif, k=8)\n",
    "selected_data = selector.fit_transform(features, y)\n",
    "\n",
    "print(selected_data.shape)\n"
   ]
  },
  {
   "cell_type": "markdown",
   "metadata": {},
   "source": [
    "#### *Tarefa 5*: Realização da classificação utilizando `SVM`."
   ]
  },
  {
   "cell_type": "markdown",
   "metadata": {},
   "source": [
    "A utilização do SVM padrão, sem qualquer modificação, estava levando tempo demais. 16 minutos era o tempo da execução, o que se torna iniviável, considerando a necessidade futura de \"podar\" os dados a fim de obter uma maior precisão da classificação, conforme orientado em sala de aula. Portanto, em busca de uma melhor utilização do SVM e com ambos os integrantes da dupla cursando a matéria de Aprendizagem de Máquina, do professor Juliano Foleiss, decidiu-se por testar a viabilidade de uma implementação alternativa do SVM.\n",
    "\n",
    "Sabe-se que o SVM é um algoritmo de classificação focado em encontrar um hiperplano que melhor separa as classes em um espaço de características, onde cada característica é representada por uma dimensão num espaço multidimensional, e o hiperplano é a fronteira de decisão que separa as classes. No caso de dados bidimensionais, é uma linha; em três dimensões, é um plano. Em espaços de dimensões mais altas, é um hiperplano.\n",
    "\n",
    "O SVM procura encontrar um hiperplano de decisão que maximize a margem entre as classes, ou seja, a distância entre o hiperplano e os pontos de dados mais próximos de cada classe.\n",
    "Nesta implememntação, decide-se por utilizar o **kernel *rbf***, substituindo o padrão *linear*, utilizado até então. Este kernel utiliza um parâmetro ***gamma***,  que controla a influência da distância entre os pontos no cálculo da margem suave, e o parâmetro ***C***, que determina a **largura da margem**, variando entre os valores 1, 10, 100, 1000 e 10000. Itera-se por estes valores, buscando a melhor combinação entre os parâmetros **gamma** e **C**."
   ]
  },
  {
   "cell_type": "markdown",
   "metadata": {},
   "source": [
    "#### **Classificação (SVM)**"
   ]
  },
  {
   "cell_type": "code",
   "execution_count": 3060,
   "metadata": {},
   "outputs": [],
   "source": [
    "from sklearn.metrics import accuracy_score\n",
    "from sklearn.preprocessing import StandardScaler\n",
    "from sklearn.model_selection import train_test_split, StratifiedKFold\n",
    "from joblib import Parallel, delayed\n",
    "from tqdm.notebook import tqdm\n",
    "import itertools\n",
    "\n",
    "#Cs e gammas são listas com os valores a serem avaliados para os respectivos parâmetros.\n",
    "def selecionar_melhor_svm(Cs, gammas, X_treino : np.ndarray, X_val : np.ndarray, \n",
    "                          y_treino : np.ndarray, y_val : np.ndarray, n_jobs=4):\n",
    "    \n",
    "    def treinar_svm(C, gamma, X_treino, X_val, y_treino, y_val):\n",
    "        svm = SVC(C=C, gamma=gamma)\n",
    "        svm.fit(X_treino, y_treino)\n",
    "        pred = svm.predict(X_val)\n",
    "        return accuracy_score(y_val, pred)\n",
    "    \n",
    "    #gera todas as combinações de parametros C e gamma, de acordo com as listas de valores recebidas por parametro.\n",
    "    #Na prática faz o produto cartesiano entre Cs e gammas.\n",
    "    combinacoes_parametros = list(itertools.product(Cs, gammas))\n",
    "    \n",
    "    #Treinar modelos com todas as combinações de C e gamma\n",
    "    acuracias_val = Parallel(n_jobs=n_jobs)(delayed(treinar_svm)\n",
    "                                       (c, g, X_treino, X_val, y_treino, y_val) for c, g in combinacoes_parametros)       \n",
    "    \n",
    "    melhor_val = max(acuracias_val)\n",
    "    #Encontrar a combinação que levou ao melhor resultado no conjunto de validação\n",
    "    melhor_comb = combinacoes_parametros[np.argmax(acuracias_val)]   \n",
    "    melhor_c = melhor_comb[0]\n",
    "    melhor_gamma = melhor_comb[1]\n",
    "    \n",
    "    #Treinar uma SVM com todos os dados de treino e validação usando a melhor combinação de C e gamma.\n",
    "    svm = SVC(C=melhor_c, gamma=melhor_gamma)\n",
    "    svm.fit(np.vstack((X_treino, X_val)), [*y_treino, *y_val])\n",
    "\n",
    "    return svm, melhor_comb, melhor_val\n",
    "\n",
    "#Implementa a validação cruzada para avaliar o desempenho da SVM na base de dados com as instâncias X e as saídas y.\n",
    "#cv_splits indica o número de partições que devem ser criadas.\n",
    "#Cs é a lista com os valores C que devem ser avaliados na busca exaustiva de parametros para a SVM.\n",
    "#gammas s é a lista com os valores gamma que devem ser avaliados na busca exaustiva de parametros para a SVM.\n",
    "def do_cv_svm(X, y, cv_splits, Cs=[1], gammas=['scale']):\n",
    "\n",
    "    skf = StratifiedKFold(n_splits=cv_splits, shuffle=True, random_state=1)\n",
    "\n",
    "    acuracias = []\n",
    "    \n",
    "    pgb = tqdm(total=cv_splits, desc='Folds avaliados')\n",
    "    \n",
    "    for treino_idx, teste_idx in skf.split(X, y):\n",
    "\n",
    "        X_treino = X[treino_idx]\n",
    "        y_treino = y[treino_idx]\n",
    "\n",
    "        X_teste = X[teste_idx]\n",
    "        y_teste = y[teste_idx]\n",
    "\n",
    "        X_treino, X_val, y_treino, y_val = train_test_split(X_treino, y_treino, stratify=y_treino, test_size=0.2, random_state=1)\n",
    "\n",
    "        ss = StandardScaler()\n",
    "        ss.fit(X_treino)\n",
    "        X_treino = ss.transform(X_treino)\n",
    "        X_teste = ss.transform(X_teste)\n",
    "        X_val = ss.transform(X_val)\n",
    "\n",
    "        svm, _, _ = selecionar_melhor_svm(Cs, gammas, X_treino, X_val, y_treino, y_val)\n",
    "        pred = svm.predict(X_teste)\n",
    "\n",
    "        acuracias.append(accuracy_score(y_teste, pred))\n",
    "        \n",
    "        pgb.update(1)\n",
    "        \n",
    "    pgb.close()\n",
    "    \n",
    "    return acuracias\n"
   ]
  },
  {
   "cell_type": "code",
   "execution_count": 3061,
   "metadata": {},
   "outputs": [],
   "source": [
    "def calcular_estatisticas(resultados):\n",
    "    return np.mean(resultados), np.std(resultados), np.min(resultados), np.max(resultados)\n",
    "\n",
    "def imprimir_estatisticas(resultados):\n",
    "    media, desvio, mini, maxi = calcular_estatisticas(resultados)\n",
    "    print(\"Resultados: %.2f +- %.2f, min: %.2f, max: %.2f\" % (media, desvio, mini, maxi))"
   ]
  },
  {
   "cell_type": "code",
   "execution_count": 3062,
   "metadata": {},
   "outputs": [
    {
     "data": {
      "application/vnd.jupyter.widget-view+json": {
       "model_id": "02663dc203f3452f8a975b2a3dbbf12f",
       "version_major": 2,
       "version_minor": 0
      },
      "text/plain": [
       "Folds avaliados:   0%|          | 0/10 [00:00<?, ?it/s]"
      ]
     },
     "metadata": {},
     "output_type": "display_data"
    }
   ],
   "source": [
    "\n",
    "accs_svm = do_cv_svm(selected_data, y, 10, Cs=[1, 10, 100, 1000], gammas=['scale', 'auto', 2e-2, 2e-3, 2e-4])"
   ]
  },
  {
   "cell_type": "code",
   "execution_count": 3063,
   "metadata": {},
   "outputs": [
    {
     "name": "stdout",
     "output_type": "stream",
     "text": [
      "Resultados: 0.37 +- 0.06, min: 0.27, max: 0.47\n"
     ]
    }
   ],
   "source": [
    "imprimir_estatisticas(accs_svm)"
   ]
  }
 ],
 "metadata": {
  "kernelspec": {
   "display_name": "Python 3 (ipykernel)",
   "language": "python",
   "name": "python3"
  },
  "language_info": {
   "codemirror_mode": {
    "name": "ipython",
    "version": 3
   },
   "file_extension": ".py",
   "mimetype": "text/x-python",
   "name": "python",
   "nbconvert_exporter": "python",
   "pygments_lexer": "ipython3",
   "version": "3.10.6"
  }
 },
 "nbformat": 4,
 "nbformat_minor": 2
}
