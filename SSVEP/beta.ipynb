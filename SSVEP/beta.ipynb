{
 "cells": [
  {
   "cell_type": "markdown",
   "metadata": {},
   "source": [
    "## Análise utilizando algoritmos de ML\n",
    "\n",
    "### Pontos importantes\n",
    "- frequencias estimuladas (total de 40): 8.0, 8.2, ... 15.16, 15.18.\n",
    "- taxa de amostragem: 250 Hz\n",
    "\n",
    "### Analisar os 'momentos' em que ocorrem evocação do sinal SSVEP\n",
    "\n",
    "1. Criar o objeto `MNE` a partir dos dados do participante;\n",
    "2. Aplicar no objeto  `MNE` o filtro passa-faixa nos valroes de 6 - 18 Hz;\n",
    "3. Criar cópias do `MNE` com fatias de tempo menores para analisar momentos que ocorrem estimulos ou não;\n",
    "  - 0.0 - 0.5 segundos e 2.5 - 3.0 segundos ocorre apenas ruído;\n",
    "  - 0.5 - 2.5 segundos ocorre sinal SSVEP (com ruídos);\n",
    "4. Com so sinais separados em objetos `MNE`, aplicar a `FFT`, para que seja possível plotar gráficos que contenham (ou não) as informações.\n",
    "  - Os dados devem ser plotados no dominio da frequencia (após a transformada de Fourier). O FFT pode ser realizado pela biblioteca scipy.fft.\n",
    "  - Deve ser observado que as janelas (a) com o ruído não aparecerão de fato o sinal SSVEP.\n",
    "\n",
    "  ### Extração de características\n",
    "\n",
    "Uma característica importante de acordo com o artigo base do dataset `BETA` é o *signal-to-noise ratio* (SNR).\n",
    "\n",
    "```Incluir equação SNR```\n",
    "\n",
    "Ao final desta etapa, será obtido um vetor de características.\n",
    "Estas podem ser:\n",
    "- `SNR` (obrigatósia);\n",
    "- Maior valor espectral (FFT);\n",
    "- Média dos valores espectrais (FFT)\n",
    "\n",
    "Dimensionalidade dos dados será da seguinte forma:\n",
    "\n",
    "`40 , 4 , 64 , 750` -> 40 targets, 4 trials, 64 canais e 750 valores\n",
    "`160 , 64 (SNR) + 64 (média) + 64  (maior) ...`\n",
    "Resultando em `160, 192`.\n",
    "\n",
    "### Seleção de características e classificação\n",
    "\n",
    "Como existem diversos eletrodos (canais) que nao obtém sinal SSVEP, podemos extrair características que não contribuem para a classificação dos dados.\n",
    "\n",
    "Podemos utilizar o método `RFE` (*Recursive Feature Elimination*) aplicando por meio de `sklearn.feature_selection.RFE`, aprimorando o parâmetro `n_features_to_select` até obter o melhor resultado de classificação.\n",
    "\n",
    "Para a classificação propriamente fita, é considerando o uso do método `SVM.`"
   ]
  },
  {
   "cell_type": "code",
   "execution_count": 83,
   "metadata": {},
   "outputs": [],
   "source": [
    "# imports\n",
    "\n",
    "from scipy.io import loadmat\n",
    "import numpy as np\n",
    "import mne\n",
    "from sklearn.model_selection import train_test_split, StratifiedKFold\n",
    "from sklearn.preprocessing import StandardScaler, LabelEncoder\n",
    "from sklearn.metrics import accuracy_score, confusion_matrix, classification_report\n",
    "from sklearn.feature_selection import RFE\n",
    "from sklearn import svm\n",
    "from sklearn.svm import SVC"
   ]
  },
  {
   "cell_type": "code",
   "execution_count": 72,
   "metadata": {},
   "outputs": [
    {
     "name": "stdout",
     "output_type": "stream",
     "text": [
      "(160, 64, 750)\n",
      "(160,)\n"
     ]
    }
   ],
   "source": [
    "# pré-carregamento\n",
    "\n",
    "beta = loadmat(f\"datasets/beta/S2.mat\")\n",
    "\n",
    "data = beta['data'][0][0][0]\n",
    "freqs = beta['data'][0][0][1]['freqs'][0][0]\n",
    "\n",
    "data = data.reshape(data.shape[2]*data.shape[3], data.shape[0], data.shape[1])\n",
    "frequencies = np.array( list(freqs.flatten())*4)\n",
    "\n",
    "\n",
    "print(data.shape)\n",
    "print(frequencies.shape)"
   ]
  },
  {
   "cell_type": "code",
   "execution_count": 3,
   "metadata": {},
   "outputs": [],
   "source": [
    "%matplotlib inline\n",
    "import matplotlib.pyplot as plt\n",
    "from matplotlib import rcParams\n",
    "import numpy as np\n",
    "from scipy import signal\n",
    "from sklearn.preprocessing import LabelEncoder\n",
    "import mne\n",
    "\n",
    "\n",
    "# definições de filtros\n",
    "\n",
    "def butter_bandpass(data, lowcut, highcut, fs=512, order=4):\n",
    "    nyq = fs * 0.5\n",
    "    low = lowcut / nyq\n",
    "    high = highcut / nyq\n",
    "    b, a = signal.butter(order, [low, high], btype='bandpass')\n",
    "    return signal.filtfilt(b, a, data)\n",
    "\n",
    "\n",
    "def butter_lowpass(data, lowcut, fs=512, order=4):\n",
    "    nyq = fs * 0.5\n",
    "    low = lowcut / nyq\n",
    "    b, a = signal.butter(order, low, btype='lowpass')\n",
    "    return signal.filtfilt(b, a, data)\n",
    "\n",
    "\n",
    "def butter_highpass(data, highcut, fs=512, order=4):\n",
    "    nyq = fs * 0.5\n",
    "    high = highcut / nyq\n",
    "    b, a = signal.butter(order, high, btype='highpass')\n",
    "    return signal.filtfilt(b, a, data)\n",
    "\n",
    "\n",
    "def butter_notch(data, cutoff, var=1, fs=512, order=4):\n",
    "    nyq = fs * 0.5\n",
    "    low = (cutoff - var) / nyq\n",
    "    high = (cutoff + var) / nyq\n",
    "    b, a = signal.iirfilter(order, [low, high], btype='bandstop', ftype=\"butter\")\n",
    "    return signal.filtfilt(b, a, data)"
   ]
  },
  {
   "cell_type": "code",
   "execution_count": 4,
   "metadata": {},
   "outputs": [],
   "source": [
    "\n",
    "def print_graphs(data):\n",
    "    for i in range(0, 84, 3):\n",
    "        plt.plot(data[i,:])\n",
    "    plt.title('Domínio do tempo')\n",
    "    plt.show()\n",
    "\n",
    "    for i in range(0, 84, 3):\n",
    "        plt.psd(data[i,:], Fs=512)\n",
    "    plt.title('Domínio da frequência')\n",
    "    plt.show()\n",
    "\n",
    "    for i in range(0, 84, 3):\n",
    "        plt.specgram(data[i,:], Fs=512)\n",
    "    plt.title('Domínio da frequência')\n",
    "    plt.show()"
   ]
  },
  {
   "cell_type": "code",
   "execution_count": 73,
   "metadata": {},
   "outputs": [
    {
     "data": {
      "text/html": [
       "<table class=\"table table-hover table-striped table-sm table-responsive small\">\n",
       "    <tr>\n",
       "        <th>Measurement date</th>\n",
       "        \n",
       "        <td>Unknown</td>\n",
       "        \n",
       "    </tr>\n",
       "    <tr>\n",
       "        <th>Experimenter</th>\n",
       "        \n",
       "        <td>Unknown</td>\n",
       "        \n",
       "    </tr>\n",
       "        <th>Participant</th>\n",
       "        \n",
       "        <td>Unknown</td>\n",
       "        \n",
       "    </tr>\n",
       "    <tr>\n",
       "        <th>Digitized points</th>\n",
       "        \n",
       "        <td>Not available</td>\n",
       "        \n",
       "    </tr>\n",
       "    <tr>\n",
       "        <th>Good channels</th>\n",
       "        <td>64 EEG</td>\n",
       "    </tr>\n",
       "    <tr>\n",
       "        <th>Bad channels</th>\n",
       "        <td>None</td>\n",
       "    </tr>\n",
       "    <tr>\n",
       "        <th>EOG channels</th>\n",
       "        <td>Not available</td>\n",
       "    </tr>\n",
       "    <tr>\n",
       "        <th>ECG channels</th>\n",
       "        <td>Not available</td>\n",
       "    \n",
       "    <tr>\n",
       "        <th>Sampling frequency</th>\n",
       "        <td>250.00 Hz</td>\n",
       "    </tr>\n",
       "    \n",
       "    \n",
       "    <tr>\n",
       "        <th>Highpass</th>\n",
       "        <td>0.00 Hz</td>\n",
       "    </tr>\n",
       "    \n",
       "    \n",
       "    <tr>\n",
       "        <th>Lowpass</th>\n",
       "        <td>125.00 Hz</td>\n",
       "    </tr>\n",
       "    \n",
       "    \n",
       "</table>"
      ],
      "text/plain": [
       "<Info | 7 non-empty values\n",
       " bads: []\n",
       " ch_names: FP1, FPZ, FP2, AF3, AF4, F7, F5, F3, F1, FZ, F2, F4, F6, F8, ...\n",
       " chs: 64 EEG\n",
       " custom_ref_applied: False\n",
       " highpass: 0.0 Hz\n",
       " lowpass: 125.0 Hz\n",
       " meas_date: unspecified\n",
       " nchan: 64\n",
       " projs: []\n",
       " sfreq: 250.0 Hz\n",
       ">"
      ]
     },
     "execution_count": 73,
     "metadata": {},
     "output_type": "execute_result"
    }
   ],
   "source": [
    "# criação do objeto MNE\n",
    "sfreq = 250\n",
    "ch_names = [beta['data'][0][0][1]['chan'][0][0][i][3][0] for i in range(64)]\n",
    "ch_types = ['eeg'] * 64\n",
    "info = mne.create_info(ch_names, sfreq=sfreq, ch_types=ch_types)\n",
    "info    \n"
   ]
  },
  {
   "cell_type": "code",
   "execution_count": 74,
   "metadata": {},
   "outputs": [
    {
     "name": "stdout",
     "output_type": "stream",
     "text": [
      "Not setting metadata\n",
      "160 matching events found\n",
      "No baseline correction applied\n",
      "0 projection items activated\n"
     ]
    }
   ],
   "source": [
    "from sklearn.preprocessing import LabelEncoder\n",
    "\n",
    "le = LabelEncoder()\n",
    "events = np.column_stack((\n",
    "    np.array(range(len(frequencies))),\n",
    "    np.zeros(len(frequencies), dtype=int),\n",
    "    le.fit_transform(frequencies))\n",
    ")\n",
    "event_dict = {'8.6': 3, '8.8': 4, '9.0': 5, '9.2': 6, '9.4': 7, '9.6': 8, '9.8': 9, '10.0': 10, '10.2': 11, '10.4': 12, '10.6': 13, '10.8': 14, '11.0': 15, '11.2': 16, '11.4': 17, '11.6': 18, '11.8': 19, '12.0': 20, '12.2': 21, '12.4': 22, '12.6': 23, '12.8': 24, '13.0': 25, '13.2': 26, '13.4': 27, '13.6': 28, '13.8': 29, '14.0': 30, '14.2': 31, '14.4': 32, '14.6': 33, '14.8': 34, '15.0': 35, '15.2': 36, '15.4': 37, '15.6': 38, '15.8': 39,  '8.0': 0, '8.2': 1, '8.4': 2}\n",
    "mne_data = mne.EpochsArray(data, info, events, event_id=event_dict)\n"
   ]
  },
  {
   "cell_type": "code",
   "execution_count": 77,
   "metadata": {},
   "outputs": [
    {
     "data": {
      "text/plain": [
       "81464.7871303496"
      ]
     },
     "execution_count": 77,
     "metadata": {},
     "output_type": "execute_result"
    }
   ],
   "source": [
    "# Estimando o ruído de fundo\n",
    "\n",
    "# intervalos de tempo sem estímulo (0 a 0,5 segundos e 2,5 a 3 segundos)\n",
    "base_start = 0\n",
    "base_end = 125\n",
    "rest_start = 625\n",
    "rest_end = 750\n",
    "\n",
    "# armazena uma lista com as médias de potência para cada canal\n",
    "noise_power = []\n",
    "# consideramos a primeira amostra (1º target, 1º trial)\n",
    "for channel_data in data[0, :, :]:\n",
    "    fft_result = np.fft.fft(channel_data)\n",
    "    # densidade espectral de potência (PSD)\n",
    "    psd = np.abs(fft_result) ** 2\n",
    "    # média da potência nos intervalos de tempo sem estímulo\n",
    "    base_power = np.mean(psd[base_start:base_end])\n",
    "    rest_power = np.mean(psd[rest_start:rest_end])\n",
    "    # média das duas médias de potência obtidas anteriormente\n",
    "    mean_noise_power = (base_power + rest_power) / 2\n",
    "    noise_power.append(mean_noise_power)\n",
    "# média das médias de potência de todos os canais para estimar o ruído de fundo\n",
    "estimated_background_noise = np.mean(noise_power)\n",
    "estimated_background_noise"
   ]
  },
  {
   "cell_type": "code",
   "execution_count": 78,
   "metadata": {},
   "outputs": [
    {
     "data": {
      "text/plain": [
       "(160,)"
      ]
     },
     "execution_count": 78,
     "metadata": {},
     "output_type": "execute_result"
    }
   ],
   "source": [
    "sr = 250\n",
    "\n",
    "# Frequências alvo\n",
    "target_frequencies = np.arange(8, 16, 0.2)\n",
    "# lista para armazenar as amplitudes nas frequências alvo\n",
    "target_amplitudes = []\n",
    "\n",
    "for channel_data in mne_data.get_data():\n",
    "    aux = []\n",
    "    for eletrodo in channel_data:\n",
    "        fft_result = np.fft.fft(eletrodo)\n",
    "        psd = np.abs(fft_result) ** 2\n",
    "        freqs = np.fft.fftfreq(len(fft_result), 1 / sr)\n",
    "        target_amplitudes_trial = []\n",
    "        for target_frequency in target_frequencies:\n",
    "            # Encontrando o índice da frequência alvo no espectro de frequência\n",
    "            index = np.argmin(np.abs(freqs - target_frequency))\n",
    "            # Amplitude na frequência alvo\n",
    "            amplitude = np.sqrt(psd[index])\n",
    "            target_amplitudes_trial.append(amplitude)\n",
    "        aux.append(target_amplitudes_trial)\n",
    "    \n",
    "    target_amplitudes.append(aux)\n",
    "\n",
    "target_amplitudes = np.array(target_amplitudes)\n",
    "frequencies.shape"
   ]
  },
  {
   "cell_type": "code",
   "execution_count": 79,
   "metadata": {},
   "outputs": [
    {
     "name": "stdout",
     "output_type": "stream",
     "text": [
      "(160, 64, 80)\n"
     ]
    }
   ],
   "source": [
    "target_amplitudes_adjusted = np.abs(target_amplitudes - mean_noise_power)\n",
    "\n",
    "narrow_band_SNR = 10 * np.log10(target_amplitudes_adjusted / mean_noise_power)\n",
    "\n",
    "total_power = np.sum(target_amplitudes_adjusted)\n",
    "wide_band_SNR = 10 * np.log10(target_amplitudes_adjusted / total_power)\n",
    "\n",
    "data = np.array([narrow_band_SNR, wide_band_SNR])\n",
    "data = data.swapaxes(0, 1)\n",
    "data = data.swapaxes(1, 2)\n",
    "data = data.reshape(data.shape[0], data.shape[1], data.shape[2] * data.shape[3])\n",
    "print(data.shape)\n"
   ]
  },
  {
   "cell_type": "markdown",
   "metadata": {},
   "source": [
    "Seleção de características manual utilizando SVM"
   ]
  },
  {
   "cell_type": "code",
   "execution_count": 81,
   "metadata": {},
   "outputs": [
    {
     "name": "stdout",
     "output_type": "stream",
     "text": [
      "(160, 720)\n",
      "Accuracy: 0.0\n"
     ]
    }
   ],
   "source": [
    "desired_channels = ['PZ', 'PO3', 'PO5', 'PO4', 'PO6', 'POZ', 'O1', 'OZ', 'O2']\n",
    "desired_channels = np.isin(ch_names, desired_channels)\n",
    "filtered_channels = data[:, desired_channels, :]\n",
    "\n",
    "manualSelection_channels = filtered_channels.reshape(filtered_channels.shape[0], filtered_channels.shape[1] * filtered_channels.shape[2])\n",
    "print(manualSelection_channels.shape)\n",
    "\n",
    "X = StandardScaler().fit_transform(manualSelection_channels)\n",
    "y = LabelEncoder().fit_transform(frequencies)\n",
    "\n",
    "X_train, X_test, y_train, y_test = train_test_split(X, y, test_size=0.25, random_state=42)\n",
    "\n",
    "svm_model = SVC(kernel='linear', C=1)\n",
    "svm_model.fit(X_train, y_train)\n",
    "\n",
    "y_pred = svm_model.predict(X_test)\n",
    "\n",
    "accuracy = accuracy_score(y_test, y_pred)\n",
    "\n",
    "print(\"Accuracy:\", accuracy)"
   ]
  },
  {
   "cell_type": "markdown",
   "metadata": {},
   "source": [
    "Seleção de características automática utilizando RFE"
   ]
  },
  {
   "cell_type": "code",
   "execution_count": 90,
   "metadata": {},
   "outputs": [
    {
     "name": "stdout",
     "output_type": "stream",
     "text": [
      "(160, 5120)\n"
     ]
    }
   ],
   "source": [
    "rfe_data = data.reshape(data.shape[0], data.shape[1] * data.shape[2])\n",
    "print(rfe_data.shape)\n",
    "\n",
    "X = StandardScaler().fit_transform(rfe_data)\n",
    "y = LabelEncoder().fit_transform(frequencies)\n",
    "\n",
    "stratified_kfold = StratifiedKFold(n_splits=3, shuffle=True, random_state=42)\n",
    "\n",
    "svm_model = SVC(kernel='linear')\n",
    "rfe = RFE(estimator=svm_model, n_features_to_select=3)  # Escolha o número desejado de recursos\n",
    "\n",
    "accuracies = []\n",
    "\n",
    "for train_index, test_index in stratified_kfold.split(X, y):\n",
    "    X_train, X_test = X[train_index], X[test_index]\n",
    "    y_train, y_test = y[train_index], y[test_index]\n",
    "\n",
    "    rfe.fit(X_train, y_train)  # Seleciona as melhores características com base no conjunto de treinamento\n",
    "\n",
    "    # Obtenha o conjunto de características selecionadas\n",
    "    selected_features = X_train[:, rfe.support_]\n",
    "\n",
    "    # Treine seu modelo SVM no conjunto de características selecionadas\n",
    "    svm_model.fit(selected_features, y_train)\n",
    "\n",
    "    # Aplique a seleção de recursos ao conjunto de teste\n",
    "    X_test_selected = X_test[:, rfe.support_]\n",
    "\n",
    "    # Faça previsões e calcule a precisão\n",
    "    y_pred = svm_model.predict(X_test_selected)\n",
    "    accuracy = accuracy_score(y_test, y_pred)\n",
    "    accuracies.append(accuracy)\n",
    "\n",
    "# Calcule a média das precisões das dobras\n",
    "mean_accuracy = sum(accuracies) / len(accuracies)\n"
   ]
  },
  {
   "cell_type": "code",
   "execution_count": 91,
   "metadata": {},
   "outputs": [
    {
     "data": {
      "text/plain": [
       "0.018634987188446306"
      ]
     },
     "execution_count": 91,
     "metadata": {},
     "output_type": "execute_result"
    }
   ],
   "source": [
    "mean_accuracy"
   ]
  },
  {
   "cell_type": "code",
   "execution_count": null,
   "metadata": {},
   "outputs": [],
   "source": []
  }
 ],
 "metadata": {
  "kernelspec": {
   "display_name": "Python 3 (ipykernel)",
   "language": "python",
   "name": "python3"
  },
  "language_info": {
   "codemirror_mode": {
    "name": "ipython",
    "version": 3
   },
   "file_extension": ".py",
   "mimetype": "text/x-python",
   "name": "python",
   "nbconvert_exporter": "python",
   "pygments_lexer": "ipython3",
   "version": "3.10.6"
  },
  "orig_nbformat": 4
 },
 "nbformat": 4,
 "nbformat_minor": 2
}
