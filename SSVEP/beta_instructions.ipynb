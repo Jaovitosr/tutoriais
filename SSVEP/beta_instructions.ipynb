{
 "cells": [
  {
   "cell_type": "markdown",
   "metadata": {},
   "source": [
    "## Análise utilizando algoritmos de ML\n",
    "\n",
    "### Pontos importantes\n",
    "- frequencias estimuladas (total de 40): 8.0, 8.2, ... 15.16, 15.18.\n",
    "- taxa de amostragem: 250 Hz"
   ]
  },
  {
   "cell_type": "markdown",
   "metadata": {},
   "source": [
    "### Analisar os 'momentos' em que ocorrem evocação do sinal SSVEP\n",
    "\n",
    "1. Criar o objeto `MNE` a partir dos dados do participante;\n",
    "2. Aplicar no objeto  `MNE` o filtro passa-faixa nos valroes de 6 - 18 Hz;\n",
    "3. Criar cópias do `MNE` com fatias de tempo menores para analisar momentos que ocorrem estimulos ou não;\n",
    "  - 0.0 - 0.5 segundos e 2.5 - 3.0 segundos ocorre apenas ruído;\n",
    "  - 0.5 - 2.5 segundos ocorre sinal SSVEP (com ruídos);\n",
    "4. Com so sinais separados em objetos `MNE`, aplicar a `FFT`, para que seja possível plotar gráficos que contenham (ou não) as informações.\n",
    "  - Os dados devem ser plotados no dominio da frequencia (após a transformada de Fourier). O FFT pode ser realizado pela biblioteca scipy.fft.\n",
    "  - Deve ser observado que as janelas (a) com o ruído não aparecerão de fato o sinal SSVEP."
   ]
  },
  {
   "cell_type": "markdown",
   "metadata": {},
   "source": [
    "### Extração de características\n",
    "\n",
    "Uma característica importante de acordo com o artigo base do dataset `BETA` é o *signal-to-noise ratio* (SNR).\n",
    "\n",
    "```Incluir equação SNR```\n",
    "\n",
    "Ao final desta etapa, será obtido um vetor de características.\n",
    "Estas podem ser:\n",
    "- `SNR` (obrigatósia);\n",
    "- Maior valor espectral (FFT);\n",
    "- Média dos valores espectrais (FFT)\n",
    "\n",
    "Dimensionalidade dos dados será da seguinte forma:\n",
    "\n",
    "`40 , 4 , 64 , 750` -> 40 targets, 4 trials, 64 canais e 750 valores\n",
    "`160 , 64 (SNR) + 64 (média) + 64  (maior) ...`\n",
    "Resultando em `160, 192`."
   ]
  },
  {
   "cell_type": "markdown",
   "metadata": {},
   "source": [
    "### Seleção de características e classificação\n",
    "\n",
    "Como existem diversos eletrodos (canais) que nao obtém sinal SSVEP, podemos extrair características que não contribuem para a classificação dos dados.\n",
    "\n",
    "Podemos utilizar o método `RFE` (*Recursive Feature Elimination*) aplicando por meio de `sklearn.feature_selection.RFE`, aprimorando o parâmetro `n_features_to_select` até obter o melhor resultado de classificação.\n",
    "\n",
    "Para a classificação propriamente fita, é considerando o uso do método `SVM.`"
   ]
  },
  {
   "cell_type": "markdown",
   "metadata": {},
   "source": []
  }
 ],
 "metadata": {
  "language_info": {
   "name": "python"
  }
 },
 "nbformat": 4,
 "nbformat_minor": 2
}
