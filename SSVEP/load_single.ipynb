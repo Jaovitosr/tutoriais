{
 "cells": [
  {
   "cell_type": "code",
   "execution_count": 3,
   "metadata": {},
   "outputs": [],
   "source": [
    "# imports\n",
    "\n",
    "from scipy.io import loadmat\n",
    "import numpy as np\n",
    "import csv"
   ]
  },
  {
   "cell_type": "code",
   "execution_count": 11,
   "metadata": {},
   "outputs": [],
   "source": [
    "# pré-carregamento\n",
    "\n",
    "avi_data = list()\n",
    "for i in range(1,5):\n",
    "    avi_data.append(loadmat(f\"/datasets/avi/single/Sub{i}_singletarget.mat\"))\n",
    "\n",
    "\n",
    "avi_mult_data = list()\n",
    "for i in range (1, 11):\n",
    "    avi_mult_data.append(open(f\"/datasets/sc (estranho)/subject{i}.csv\"))"
   ]
  },
  {
   "cell_type": "code",
   "execution_count": 12,
   "metadata": {},
   "outputs": [
    {
     "name": "stdout",
     "output_type": "stream",
     "text": [
      "Divisão dos dados:\n",
      "(15360, 27)\n",
      "(15360, 26)\n",
      "(15360, 21)\n",
      "(15360, 21)\n",
      "\n",
      "Divisão dos rótulos (sequências):\n",
      "[[10.  10.  10.  12.  12.  12.   6.5  6.5  6.5  6.   6.   6.   6.   6.\n",
      "   6.   7.5  7.5  7.5  7.   7.   7.   8.2  8.2  8.2  9.3  9.3  9.3]]\n",
      "[[10.  10.  10.   6.5  6.5  6.5  6.5  6.   6.   6.   7.5  7.5  7.5  7.\n",
      "   7.   7.   7.   7.   7.   8.2  8.2  8.2  8.2  9.3  9.3  9.3]]\n",
      "[[10.  10.  10.   6.5  6.5  6.5  6.   6.   6.   7.5  7.5  7.5  7.   7.\n",
      "   7.   8.2  8.2  8.2  9.3  9.3  9.3]]\n",
      "[[10.  10.  10.   6.5  6.5  6.5  6.   6.   6.   7.5  7.5  7.5  7.   7.\n",
      "   7.   8.2  8.2  8.2  9.3  9.3  9.3]]\n"
     ]
    }
   ],
   "source": [
    "# extração direta dos dados\n",
    "\n",
    "X = [d['Data'][0][0][0] for d in avi_data]\n",
    "Y= [d['Data'][0][0][1] for d in avi_data]\n",
    "\n",
    "print(\"Divisão dos dados:\")\n",
    "for data in X:\n",
    "    print(data.shape)\n",
    "\n",
    "print(\"\\nDivisão dos rótulos (sequências):\")\n",
    "for data in Y:\n",
    "    print(data)\n",
    "\n"
   ]
  },
  {
   "cell_type": "markdown",
   "metadata": {},
   "source": [
    "### Tarefas:\n",
    "\n",
    "- Padronizar os dados de todos os 4 participantes dos dados *single-target* e salvar de forma adequada para utilização nos próximos notebooks.\n",
    "- Realizar o mesmo estudo para os dados *multi-target*"
   ]
  },
  {
   "cell_type": "code",
   "execution_count": 13,
   "metadata": {},
   "outputs": [
    {
     "name": "stdout",
     "output_type": "stream",
     "text": [
      "Divisão dos dados, agora padronizados:\n",
      "(15360, 21)\n",
      "(15360, 21)\n",
      "(15360, 21)\n",
      "(15360, 21)\n",
      "\n",
      "Divisão dos rótulos (sequências), agora padronizados:\n",
      "[[10.  10.  10.   6.5  6.5  6.5  6.   6.   6.   7.5  7.5  7.5  7.   7.\n",
      "   7.   8.2  8.2  8.2  9.3  9.3  9.3]]\n",
      "[[10.  10.  10.   6.5  6.5  6.5  6.   6.   6.   7.5  7.5  7.5  7.   7.\n",
      "   7.   8.2  8.2  8.2  9.3  9.3  9.3]]\n",
      "[[10.  10.  10.   6.5  6.5  6.5  6.   6.   6.   7.5  7.5  7.5  7.   7.\n",
      "   7.   8.2  8.2  8.2  9.3  9.3  9.3]]\n",
      "[[10.  10.  10.   6.5  6.5  6.5  6.   6.   6.   7.5  7.5  7.5  7.   7.\n",
      "   7.   8.2  8.2  8.2  9.3  9.3  9.3]]\n"
     ]
    }
   ],
   "source": [
    "#padronizando dados dos 4 participantes do single-target\n",
    "\n",
    "tempX = list()\n",
    "tempX.append(X[0] [:, list(set(range(27)) - set([3, 4, 5, 12, 13, 14]))])\n",
    "tempX.append(X[1] [:, list(set(range(26)) - set([3, 13, 14, 15, 19]))])\n",
    "tempX.append(X[2]) \n",
    "tempX.append(X[3])\n",
    "\n",
    "x = np.array(tempX)\n",
    "x.shape\n",
    "\n",
    "tempY = list()\n",
    "tempY.append(Y[0] [:, list(set(range(27)) - set([3, 4, 5, 12, 13, 14]))])\n",
    "tempY.append(Y[1] [:, list(set(range(26)) - set([3, 13, 14, 15, 19]))])\n",
    "tempY.append(Y[2]) \n",
    "tempY.append(Y[3])\n",
    "\n",
    "y = np.array(tempY)\n",
    "\n",
    "print(\"Divisão dos dados, agora padronizados:\")\n",
    "for data in x:\n",
    "    print(data.shape)\n",
    "\n",
    "print(\"\\nDivisão dos rótulos (sequências), agora padronizados:\")\n",
    "for data in y:\n",
    "    print(data)\n",
    "\n"
   ]
  },
  {
   "cell_type": "code",
   "execution_count": null,
   "metadata": {},
   "outputs": [],
   "source": [
    "# salva os dados numpy\n",
    "\n",
    "np.save(\"datasets/avi/single/data_sub1.npy\", x)\n",
    "np.save(\"datasets/avi/single/labels_sub1.npy\", y)"
   ]
  }
 ],
 "metadata": {
  "kernelspec": {
   "display_name": "Python 3 (ipykernel)",
   "language": "python",
   "name": "python3"
  },
  "language_info": {
   "codemirror_mode": {
    "name": "ipython",
    "version": 3
   },
   "file_extension": ".py",
   "mimetype": "text/x-python",
   "name": "python",
   "nbconvert_exporter": "python",
   "pygments_lexer": "ipython3",
   "version": "3.10.12"
  }
 },
 "nbformat": 4,
 "nbformat_minor": 4
}
