{
 "cells": [
  {
   "cell_type": "markdown",
   "metadata": {},
   "source": [
    "## Melhorando entendimento e acertos dos `datasets`\n",
    "\n",
    "Neste notebook será apresentado algumas tarefas úteis que podem melhorar o entendimento do que é um \"sinal bom\" comparado a ruídos de dados em dados `SSVEP`.\n",
    "\n",
    "Além disso, será listado uma série de melhorias que vão desde a etapa de extração de características até a classificação dos dados. Conhecemos estas melhorias como *tunning*."
   ]
  },
  {
   "cell_type": "markdown",
   "metadata": {},
   "source": [
    "### Visualização gráfica do sinal SSVEP\n",
    "\n",
    "Para visualização do sinal SSVEP, vamos filtrar apenas o tempo em que houve estímulos para o `BETA dataset`."
   ]
  },
  {
   "cell_type": "markdown",
   "metadata": {},
   "source": [
    "### Melhoramentos das etapas de classificação\n",
    "\n",
    "#### Extração de características\n",
    "\n",
    "Basicamente, para levantamento das características, levamos em consideração apenas duas: `narrow-band SNR` e `wide-band SNR`. Vamos também adicionar duas outras características em cima dos dados estimulados no domínio da frequência (`FFT`): (1) amplitude dos targets e (2) média dos valores centrais dos targets.\n",
    "\n",
    "Para cada característica estima-se que tenhamos a seguinte matriz: (160, 64, 40). Como teremos 4 características, a matriz final ficará com a seguinte dimensionalidade: (160, 64, 160) $\\rightarrow$ (160, 10240).\n",
    "\n",
    "**Observação**: Como os targets estão muito próximos um do outro, é possível que não tenha mais de um valor para calcular a média. Desta forma, será possível obter apenas a característica de \"maior valor\" ou amplitude do sinal no domínio da frequência."
   ]
  },
  {
   "cell_type": "markdown",
   "metadata": {},
   "source": [
    "#### Seleção de características\n",
    "\n",
    "Nesta etapa, são selecionadas as características que mais afetam positivamente no resultado final da classificação. Segue uma lista de métodos de seleção de características nesta [página do projeto sklearn](https://scikit-learn.org/stable/modules/feature_selection.html).\n",
    "\n",
    "Seria interessante mostrar o resultado para os dados do trabalho, para os seguintes métodos de seleção de características:\n",
    "- `VarianceThreshold`\n",
    "- `Univariate feature selection`\n",
    "    - escolha o que mais for \"interessante\": `SelectKBest`, `SelectPercentile` e `GenericUnivariateSelect`\n",
    "- `Recursive feature elimination (RFE)`"
   ]
  },
  {
   "cell_type": "markdown",
   "metadata": {},
   "source": [
    "#### Classificação e rotulação dos dados\n",
    "\n",
    "Com as atividades anteriores já realizadas, é possível aplicarmos um classificador simples para testarmos os dados. O classificador `SVM` (*Support Vector Machine*) pode nos mostrar bons resultados (se levarmos em consideração trabalhos relacionados da área).\n",
    "\n",
    "Após a primeira impressão do classificador, já é possível revisitarmos passos anteriores para alterá-los, a fim de buscar melhores resultados de acurácia do classificador. Sugere que este seja um primeiro desafio após a implementação do classificador.\n",
    "\n",
    "Outros passos interessantes incluem dividir os dados em diversos *folds*. Para isso pode ser utilizado o método [KFold](https://scikit-learn.org/stable/modules/generated/sklearn.model_selection.KFold.html)\n",
    "\n",
    "Inicialmente, temos que desenvolver o vetor de rótulos que está relacionado com os nossos dados."
   ]
  },
  {
   "cell_type": "markdown",
   "metadata": {},
   "source": [
    "#### Visualização dos dados\n",
    "\n",
    "Para verificar o estímulo SSVEP ocorrendo, sugere plotar os dados no momento correto em que há este estímulo (0,5 - 2,5 segundos para os 15 primeiros participantes)"
   ]
  },
  {
   "cell_type": "code",
   "execution_count": 8,
   "metadata": {},
   "outputs": [],
   "source": [
    "from scipy.io import loadmat\n",
    "import numpy as np\n",
    "\n",
    "data_mat = loadmat(\"./datasets/beta/S68.mat\")\n",
    "data_mat = data_mat['data']"
   ]
  },
  {
   "cell_type": "code",
   "execution_count": 90,
   "metadata": {},
   "outputs": [],
   "source": [
    "# 0-sub, 1-age, 2-gender, 3-chan, \n",
    "# 4-freqs, 5-phases, 6-bci_quotient,\n",
    "# 7-wide_snr, 8-narrow_snr, 9-srate\n",
    "\n",
    "eeg_data = data_mat[0][0][0]\n",
    "data = data_mat[0][0][1][0][0]\n",
    "\n",
    "chs = [d[3][0] for d in data[3]]\n",
    "labels = data[4][0]"
   ]
  },
  {
   "cell_type": "code",
   "execution_count": 92,
   "metadata": {},
   "outputs": [
    {
     "data": {
      "text/plain": [
       "(64, 1000, 4, 40)"
      ]
     },
     "execution_count": 92,
     "metadata": {},
     "output_type": "execute_result"
    }
   ],
   "source": [
    "eeg_data.shape"
   ]
  }
 ],
 "metadata": {
  "kernelspec": {
   "display_name": "venv",
   "language": "python",
   "name": "python3"
  },
  "language_info": {
   "codemirror_mode": {
    "name": "ipython",
    "version": 3
   },
   "file_extension": ".py",
   "mimetype": "text/x-python",
   "name": "python",
   "nbconvert_exporter": "python",
   "pygments_lexer": "ipython3",
   "version": "3.11.4"
  }
 },
 "nbformat": 4,
 "nbformat_minor": 2
}
