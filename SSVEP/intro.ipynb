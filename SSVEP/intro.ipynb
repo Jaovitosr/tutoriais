{
 "cells": [
  {
   "cell_type": "markdown",
   "metadata": {},
   "source": [
    "# Descrição de artigos e docs\n",
    "\n",
    "- Descrição de \"**A dataset of EEG signals from a single-channel SSVEP-based brain computer interface**\"\n",
    "    \n",
    "        O objetivo da pesquisa foi observar os sinais SSVEP obtidos de 11 voluntários entre 25 e 50 anos de idade, submetidos a um teste realizado por meio de um único eletrodo seco de canal único, por meio do qual obtém-se os sinais gerados após a exposição dos voluntários a baterias de testes caracterizados pela exibição de luzes intermitentes nas frequências de 8.57 Hz, 10 Hz, 12 Hz e 15 Hz. O intuito da pesquisa é observar a precisão de sinais cerebrais dados certos estímulos sem o uso de aparatos grandes e incômodos para os voluntários, substituídos por sensores menores em tamanho e custo, o que permitiria a realização de experimentos mesmo sem muitos recursos.\n",
    "        Os sinais foram obtidos através de um Olimex EEG-SMT, normalmente empregado com o uso de seus dois canais. Neste experimento, apenas um canal, ou o par de eletroos CH- e CH+ foram utilizados, com auxílio de uma tiara feita em impressora 3D, pensando no maior conforto dos voluntários e maior precisão dos dados obtidos das regiões Fronto Parietal e do Lóbulo Occipital. O experimento deve ser realizado com mais voluntários posteriormente, a fim de aumentar a confiabilidade e aplicabilidade da base de dados proposta\n https://caiquecoelho.medium.com/um-guia-completo-para-o-pr%C3%A9-processamento-de-dados-em-machine-learning-f860fbadabe1 \n",
    "\n",
    "- Descrição de \"**BETA: A Large Benchmark Database Toward SSVEP-BCI Application**\"\n",
    "    - Estudo realizado pelos grupos serão apresentados no dia 31/08 (ou 04/09), juntamnete com a ideia (ou código) do carregamento e preparação do *dataset*"
   ]
  }
 ],
 "metadata": {
  "language_info": {
   "name": "python"
  },
  "orig_nbformat": 4
 },
 "nbformat": 4,
 "nbformat_minor": 2
}
